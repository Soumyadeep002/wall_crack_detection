{
 "cells": [
  {
   "cell_type": "code",
   "execution_count": 50,
   "metadata": {},
   "outputs": [
    {
     "name": "stdout",
     "output_type": "stream",
     "text": [
      "modules Loading....\n",
      "modules Loaded\n"
     ]
    }
   ],
   "source": [
    "print(\"modules Loading....\")\n",
    "import cv2\n",
    "import numpy as np\n",
    "import matplotlib.pyplot as plt\n",
    "\n",
    "\n",
    "pstv_path=\"E:\\\\My Projects\\\\wall_crack_detection\\\\data\\\\Positive\\\\\"\n",
    "ngtv_path=\"E:\\\\My Projects\\\\wall_crack_detection\\\\data\\\\Negative\\\\\"\n",
    "\n",
    "print(\"modules Loaded\")"
   ]
  },
  {
   "cell_type": "code",
   "execution_count": 65,
   "metadata": {},
   "outputs": [
    {
     "data": {
      "text/plain": [
       "<matplotlib.image.AxesImage at 0x1771cb66650>"
      ]
     },
     "execution_count": 65,
     "metadata": {},
     "output_type": "execute_result"
    },
    {
     "data": {
      "image/png": "[encoded data removed]",
      "text/plain": [
       "<Figure size 432x288 with 1 Axes>"
      ]
     },
     "metadata": {
      "needs_background": "light"
     },
     "output_type": "display_data"
    }
   ],
   "source": [
    "img = cv2.imread(pstv_path+\"00948.jpg\")\n",
    "gray=cv2.cvtColor(img, cv2.COLOR_RGB2GRAY)\n",
    "\n",
    "\n",
    "plt.imshow(cv2.cvtColor(gray, cv2.COLOR_BGR2RGB))\n"
   ]
  },
  {
   "attachments": {},
   "cell_type": "markdown",
   "metadata": {},
   "source": [
    "# **Feature Extraction**"
   ]
  },
  {
   "cell_type": "code",
   "execution_count": 73,
   "metadata": {},
   "outputs": [
    {
     "data": {
      "text/plain": [
       "array([[251, 251, 251, ..., 252, 252, 252],\n",
       "       [251, 251, 251, ..., 252, 252, 252],\n",
       "       [251, 251, 251, ..., 252, 252, 252],\n",
       "       ...,\n",
       "       [253, 253, 253, ..., 254, 254, 254],\n",
       "       [253, 253, 253, ..., 254, 254, 254],\n",
       "       [253, 253, 253, ..., 254, 254, 254]], dtype=uint8)"
      ]
     },
     "execution_count": 73,
     "metadata": {},
     "output_type": "execute_result"
    }
   ],
   "source": [
    "bfilter = cv2.bilateralFilter(gray, 11, 20, 17) #Noise reduction\n",
    "edged = cv2.Canny(bfilter, 20, 200) #Edge detection\n",
    "# plt.imshow(cv2.cvtColor(edged, cv2.COLOR_BGR2RGB))\n",
    "bfilter"
   ]
  },
  {
   "cell_type": "code",
   "execution_count": null,
   "metadata": {},
   "outputs": [],
   "source": []
  }
 ],
 "metadata": {
  "kernelspec": {
   "display_name": "Python 3",
   "language": "python",
   "name": "python3"
  },
  "language_info": {
   "codemirror_mode": {
    "name": "ipython",
    "version": 3
   },
   "file_extension": ".py",
   "mimetype": "text/x-python",
   "name": "python",
   "nbconvert_exporter": "python",
   "pygments_lexer": "ipython3",
   "version": "3.10.10"
  },
  "orig_nbformat": 4
 },
 "nbformat": 4,
 "nbformat_minor": 2
}
